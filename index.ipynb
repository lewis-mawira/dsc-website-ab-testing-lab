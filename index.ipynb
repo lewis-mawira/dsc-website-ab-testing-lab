{
 "cells": [
  {
   "cell_type": "markdown",
   "metadata": {},
   "source": [
    "# Website A/B Testing - Lab\n",
    "\n",
    "## Introduction\n",
    "\n",
    "In this lab, you'll get another chance to practice your skills at conducting a full A/B test analysis. It will also be a chance to practice your data exploration and processing skills! The scenario you'll be investigating is data collected from the homepage of a music app page for audacity.\n",
    "\n",
    "## Objectives\n",
    "\n",
    "You will be able to:\n",
    "* Analyze the data from a website A/B test to draw relevant conclusions\n",
    "* Explore and analyze web action data"
   ]
  },
  {
   "cell_type": "markdown",
   "metadata": {},
   "source": [
    "## Exploratory Analysis\n",
    "\n",
    "Start by loading in the dataset stored in the file 'homepage_actions.csv'. Then conduct an exploratory analysis to get familiar with the data."
   ]
  },
  {
   "cell_type": "markdown",
   "metadata": {},
   "source": [
    "> Hints:\n",
    "    * Start investigating the id column:\n",
    "        * How many viewers also clicked?\n",
    "        * Are there any anomalies with the data; did anyone click who didn't view?\n",
    "        * Is there any overlap between the control and experiment groups? \n",
    "            * If so, how do you plan to account for this in your experimental design?"
   ]
  },
  {
   "cell_type": "code",
   "execution_count": 1,
   "metadata": {},
   "outputs": [],
   "source": [
    "import pandas as pd \n",
    "import numpy as np\n",
    "import matplotlib.pyplot as plt\n",
    "import scipy.stats as stats"
   ]
  },
  {
   "cell_type": "code",
   "execution_count": 2,
   "metadata": {},
   "outputs": [
    {
     "data": {
      "text/html": [
       "<div>\n",
       "<style scoped>\n",
       "    .dataframe tbody tr th:only-of-type {\n",
       "        vertical-align: middle;\n",
       "    }\n",
       "\n",
       "    .dataframe tbody tr th {\n",
       "        vertical-align: top;\n",
       "    }\n",
       "\n",
       "    .dataframe thead th {\n",
       "        text-align: right;\n",
       "    }\n",
       "</style>\n",
       "<table border=\"1\" class=\"dataframe\">\n",
       "  <thead>\n",
       "    <tr style=\"text-align: right;\">\n",
       "      <th></th>\n",
       "      <th>timestamp</th>\n",
       "      <th>id</th>\n",
       "      <th>group</th>\n",
       "      <th>action</th>\n",
       "    </tr>\n",
       "  </thead>\n",
       "  <tbody>\n",
       "    <tr>\n",
       "      <th>0</th>\n",
       "      <td>2016-09-24 17:42:27.839496</td>\n",
       "      <td>804196</td>\n",
       "      <td>experiment</td>\n",
       "      <td>view</td>\n",
       "    </tr>\n",
       "    <tr>\n",
       "      <th>1</th>\n",
       "      <td>2016-09-24 19:19:03.542569</td>\n",
       "      <td>434745</td>\n",
       "      <td>experiment</td>\n",
       "      <td>view</td>\n",
       "    </tr>\n",
       "    <tr>\n",
       "      <th>2</th>\n",
       "      <td>2016-09-24 19:36:00.944135</td>\n",
       "      <td>507599</td>\n",
       "      <td>experiment</td>\n",
       "      <td>view</td>\n",
       "    </tr>\n",
       "    <tr>\n",
       "      <th>3</th>\n",
       "      <td>2016-09-24 19:59:02.646620</td>\n",
       "      <td>671993</td>\n",
       "      <td>control</td>\n",
       "      <td>view</td>\n",
       "    </tr>\n",
       "    <tr>\n",
       "      <th>4</th>\n",
       "      <td>2016-09-24 20:26:14.466886</td>\n",
       "      <td>536734</td>\n",
       "      <td>experiment</td>\n",
       "      <td>view</td>\n",
       "    </tr>\n",
       "  </tbody>\n",
       "</table>\n",
       "</div>"
      ],
      "text/plain": [
       "                    timestamp      id       group action\n",
       "0  2016-09-24 17:42:27.839496  804196  experiment   view\n",
       "1  2016-09-24 19:19:03.542569  434745  experiment   view\n",
       "2  2016-09-24 19:36:00.944135  507599  experiment   view\n",
       "3  2016-09-24 19:59:02.646620  671993     control   view\n",
       "4  2016-09-24 20:26:14.466886  536734  experiment   view"
      ]
     },
     "execution_count": 2,
     "metadata": {},
     "output_type": "execute_result"
    }
   ],
   "source": [
    "#Your code here\n",
    "df = pd.read_csv('homepage_actions.csv')\n",
    "df.head()"
   ]
  },
  {
   "cell_type": "code",
   "execution_count": 4,
   "metadata": {},
   "outputs": [
    {
     "name": "stdout",
     "output_type": "stream",
     "text": [
      "<class 'pandas.core.frame.DataFrame'>\n",
      "RangeIndex: 8188 entries, 0 to 8187\n",
      "Data columns (total 4 columns):\n",
      " #   Column     Non-Null Count  Dtype \n",
      "---  ------     --------------  ----- \n",
      " 0   timestamp  8188 non-null   object\n",
      " 1   id         8188 non-null   int64 \n",
      " 2   group      8188 non-null   object\n",
      " 3   action     8188 non-null   object\n",
      "dtypes: int64(1), object(3)\n",
      "memory usage: 256.0+ KB\n"
     ]
    },
    {
     "data": {
      "text/plain": [
       "(                  id\n",
       " count    8188.000000\n",
       " mean   564699.749878\n",
       " std    219085.845672\n",
       " min    182988.000000\n",
       " 25%    373637.500000\n",
       " 50%    566840.500000\n",
       " 75%    758078.000000\n",
       " max    937217.000000,\n",
       " None)"
      ]
     },
     "execution_count": 4,
     "metadata": {},
     "output_type": "execute_result"
    }
   ],
   "source": [
    "df.describe(), df.info()"
   ]
  },
  {
   "cell_type": "code",
   "execution_count": 7,
   "metadata": {},
   "outputs": [
    {
     "data": {
      "text/plain": [
       "count      8188.000000\n",
       "mean     564699.749878\n",
       "std      219085.845672\n",
       "min      182988.000000\n",
       "25%      373637.500000\n",
       "50%      566840.500000\n",
       "75%      758078.000000\n",
       "max      937217.000000\n",
       "Name: id, dtype: float64"
      ]
     },
     "execution_count": 7,
     "metadata": {},
     "output_type": "execute_result"
    }
   ],
   "source": [
    "df['id'].describe()"
   ]
  },
  {
   "cell_type": "code",
   "execution_count": 10,
   "metadata": {},
   "outputs": [
    {
     "name": "stdout",
     "output_type": "stream",
     "text": [
      "Number of viewers: 6328\n",
      "Number of clickers: 1860\n"
     ]
    }
   ],
   "source": [
    "# counting viewers and clickers\n",
    "viewers = df[df['action'] == 'view']['id'].nunique()\n",
    "clickers = df[df['action'] == 'click']['id'].nunique()\n",
    "\n",
    "print(\"Number of viewers:\", viewers)\n",
    "print(\"Number of clickers:\", clickers)\n"
   ]
  },
  {
   "cell_type": "code",
   "execution_count": 11,
   "metadata": {},
   "outputs": [
    {
     "name": "stdout",
     "output_type": "stream",
     "text": [
      "Anomalies with data:\n",
      "                       timestamp      id       group action\n",
      "8     2016-09-24 20:58:01.948663  349125  experiment  click\n",
      "12    2016-09-24 21:06:27.553057  601714  experiment  click\n",
      "15    2016-09-24 21:30:02.739756  487634  experiment  click\n",
      "17    2016-09-24 23:01:12.108316  468601  experiment  click\n",
      "21    2016-09-25 00:01:47.933853  555973  experiment  click\n",
      "...                          ...     ...         ...    ...\n",
      "8162  2017-01-17 23:20:35.483601  451198     control  click\n",
      "8164  2017-01-17 23:47:58.209653  252195     control  click\n",
      "8167  2017-01-18 00:56:24.554729  344770  experiment  click\n",
      "8180  2017-01-18 08:54:56.879682  615849  experiment  click\n",
      "8182  2017-01-18 09:09:17.363917  795585     control  click\n",
      "\n",
      "[1860 rows x 4 columns]\n"
     ]
    }
   ],
   "source": [
    "# Analyzing anommallies\n",
    "anomalies = df[(df['action'] == 'click') & (df['action'] != 'view')]\n",
    "print(\"Anomalies with data:\")\n",
    "print(anomalies)\n"
   ]
  },
  {
   "cell_type": "code",
   "execution_count": 12,
   "metadata": {},
   "outputs": [
    {
     "name": "stdout",
     "output_type": "stream",
     "text": [
      "Overlap between Control and Experiment Groups:\n",
      "group\n",
      "1    6328\n",
      "Name: count, dtype: int64\n"
     ]
    }
   ],
   "source": [
    "# Checking overlap\n",
    "overlap = df.groupby(['id']).nunique()['group'].value_counts()\n",
    "print(\"Overlap between Control and Experiment Groups:\")\n",
    "print(overlap)\n"
   ]
  },
  {
   "cell_type": "markdown",
   "metadata": {},
   "source": [
    "## Conduct a Statistical Test\n",
    "\n",
    "Conduct a statistical test to determine whether the experimental homepage was more effective than that of the control group."
   ]
  },
  {
   "cell_type": "code",
   "execution_count": 13,
   "metadata": {},
   "outputs": [
    {
     "name": "stdout",
     "output_type": "stream",
     "text": [
      "Chi-square statistic: 0.0\n",
      "p-value: 1.0\n"
     ]
    }
   ],
   "source": [
    "#Your code here\n",
    "from scipy.stats import chi2_contingency\n",
    "\n",
    "# Filter out anomalies where click action occurs without view action\n",
    "valid_data = df[df['action'] != 'click'] \n",
    "\n",
    "# Create a contingency table of observed frequencies\n",
    "contingency_table = pd.crosstab(valid_data['group'], valid_data['action'])\n",
    "\n",
    "# Perform the chi-square test\n",
    "chi2, p_value, _, _ = chi2_contingency(contingency_table)\n",
    "\n",
    "print(\"Chi-square statistic:\", chi2)\n",
    "print(\"p-value:\", p_value)\n"
   ]
  },
  {
   "cell_type": "markdown",
   "metadata": {},
   "source": [
    "## Verifying Results\n",
    "\n",
    "One sensible formulation of the data to answer the hypothesis test above would be to create a binary variable representing each individual in the experiment and control group. This binary variable would represent whether or not that individual clicked on the homepage; 1 for they did and 0 if they did not. \n",
    "\n",
    "The variance for the number of successes in a sample of a binomial variable with n observations is given by:\n",
    "\n",
    "## $n\\bullet p (1-p)$\n",
    "\n",
    "Given this, perform 3 steps to verify the results of your statistical test:\n",
    "1. Calculate the expected number of clicks for the experiment group, if it had the same click-through rate as that of the control group. \n",
    "2. Calculate the number of standard deviations that the actual number of clicks was from this estimate. \n",
    "3. Finally, calculate a p-value using the normal distribution based on this z-score."
   ]
  },
  {
   "cell_type": "markdown",
   "metadata": {},
   "source": [
    "### Step 1:\n",
    "Calculate the expected number of clicks for the experiment group, if it had the same click-through rate as that of the control group. "
   ]
  },
  {
   "cell_type": "code",
   "execution_count": 15,
   "metadata": {},
   "outputs": [
    {
     "name": "stdout",
     "output_type": "stream",
     "text": [
      "Expected number of clicks for the experiment group: 2996.0\n"
     ]
    }
   ],
   "source": [
    "# Filter out anomalies where click action occurs without view action\n",
    "valid_data = df[df['action'] != 'click']\n",
    "\n",
    "# Create a contingency table of observed frequencies\n",
    "contingency_table = pd.crosstab(valid_data['group'], valid_data['action'])\n",
    "\n",
    "# Calculate click-through rate for the control group\n",
    "control_click_through_rate = contingency_table.loc['control', 'view'] / contingency_table.loc['control'].sum()\n",
    "\n",
    "# Calculate the expected number of clicks for the experiment group\n",
    "experiment_expected_clicks = control_click_through_rate * contingency_table.loc['experiment'].sum()\n",
    "\n",
    "print(\"Expected number of clicks for the experiment group:\", experiment_expected_clicks)\n"
   ]
  },
  {
   "cell_type": "markdown",
   "metadata": {},
   "source": [
    "### Step 2:\n",
    "Calculate the number of standard deviations that the actual number of clicks was from this estimate."
   ]
  },
  {
   "cell_type": "code",
   "execution_count": 16,
   "metadata": {},
   "outputs": [
    {
     "name": "stdout",
     "output_type": "stream",
     "text": [
      "Number of standard deviations: 0.0\n"
     ]
    }
   ],
   "source": [
    "#Your code here\n",
    "import math\n",
    "\n",
    "actual_clicks = contingency_table.loc['experiment', 'view']\n",
    "z = (actual_clicks - experiment_expected_clicks) / math.sqrt(experiment_expected_clicks)\n",
    "\n",
    "print(\"Number of standard deviations:\", z)\n"
   ]
  },
  {
   "cell_type": "markdown",
   "metadata": {},
   "source": [
    "### Step 3: \n",
    "Finally, calculate a p-value using the normal distribution based on this z-score."
   ]
  },
  {
   "cell_type": "code",
   "execution_count": 18,
   "metadata": {},
   "outputs": [
    {
     "name": "stdout",
     "output_type": "stream",
     "text": [
      "p-value: 0.5\n"
     ]
    }
   ],
   "source": [
    "#Your code here\n",
    "# Calculate the p-value\n",
    "p_value = 1 - stats.norm.cdf(z)\n",
    "\n",
    "print(\"p-value:\", p_value)\n"
   ]
  },
  {
   "cell_type": "markdown",
   "metadata": {},
   "source": [
    "### Analysis:\n",
    "\n",
    "Does this result roughly match that of the previous statistical test?\n",
    "\n",
    "> Comment: **Your analysis here**"
   ]
  },
  {
   "cell_type": "markdown",
   "metadata": {},
   "source": [
    "## Summary\n",
    "\n",
    "In this lab, you continued to get more practice designing and conducting AB tests. This required additional work preprocessing and formulating the initial problem in a suitable manner. Additionally, you also saw how to verify results, strengthening your knowledge of binomial variables, and reviewing initial statistical concepts of the central limit theorem, standard deviation, z-scores, and their accompanying p-values."
   ]
  },
  {
   "cell_type": "code",
   "execution_count": 17,
   "metadata": {},
   "outputs": [
    {
     "name": "stdout",
     "output_type": "stream",
     "text": [
      "<class 'pandas.core.frame.DataFrame'>\n",
      "RangeIndex: 8188 entries, 0 to 8187\n",
      "Data columns (total 4 columns):\n",
      " #   Column     Non-Null Count  Dtype \n",
      "---  ------     --------------  ----- \n",
      " 0   timestamp  8188 non-null   object\n",
      " 1   id         8188 non-null   int64 \n",
      " 2   group      8188 non-null   object\n",
      " 3   action     8188 non-null   object\n",
      "dtypes: int64(1), object(3)\n",
      "memory usage: 256.0+ KB\n",
      "Number of viewers: 6328\n",
      "Number of clickers: 1860\n",
      "Anomalies with data:\n",
      "                       timestamp      id       group action\n",
      "8     2016-09-24 20:58:01.948663  349125  experiment  click\n",
      "12    2016-09-24 21:06:27.553057  601714  experiment  click\n",
      "15    2016-09-24 21:30:02.739756  487634  experiment  click\n",
      "17    2016-09-24 23:01:12.108316  468601  experiment  click\n",
      "21    2016-09-25 00:01:47.933853  555973  experiment  click\n",
      "...                          ...     ...         ...    ...\n",
      "8162  2017-01-17 23:20:35.483601  451198     control  click\n",
      "8164  2017-01-17 23:47:58.209653  252195     control  click\n",
      "8167  2017-01-18 00:56:24.554729  344770  experiment  click\n",
      "8180  2017-01-18 08:54:56.879682  615849  experiment  click\n",
      "8182  2017-01-18 09:09:17.363917  795585     control  click\n",
      "\n",
      "[1860 rows x 4 columns]\n",
      "Overlap between Control and Experiment Groups:\n",
      "group\n",
      "1    6328\n",
      "Name: count, dtype: int64\n",
      "Chi-square statistic: 0.0\n",
      "p-value: 1.0\n",
      "Expected number of clicks for the experiment group: 2996.0\n",
      "Number of standard deviations: 0.0\n"
     ]
    }
   ],
   "source": [
    "import pandas as pd\n",
    "import numpy as np\n",
    "import matplotlib.pyplot as plt\n",
    "import scipy.stats as stats\n",
    "\n",
    "# Load the dataset\n",
    "df = pd.read_csv('homepage_actions.csv')\n",
    "\n",
    "# Display the first few rows of the dataframe\n",
    "df.head()\n",
    "\n",
    "# Perform exploratory analysis\n",
    "df.describe()\n",
    "df.info()\n",
    "\n",
    "# Count viewers and clickers\n",
    "viewers = df[df['action'] == 'view']['id'].nunique()\n",
    "clickers = df[df['action'] == 'click']['id'].nunique()\n",
    "\n",
    "print(\"Number of viewers:\", viewers)\n",
    "print(\"Number of clickers:\", clickers)\n",
    "\n",
    "# Analyze anomalies\n",
    "anomalies = df[(df['action'] == 'click') & (df['action'] != 'view')]\n",
    "print(\"Anomalies with data:\")\n",
    "print(anomalies)\n",
    "\n",
    "# Check overlap between control and experiment groups\n",
    "overlap = df.groupby(['id']).nunique()['group'].value_counts()\n",
    "print(\"Overlap between Control and Experiment Groups:\")\n",
    "print(overlap)\n",
    "\n",
    "# Perform a statistical test\n",
    "from scipy.stats import chi2_contingency\n",
    "\n",
    "# Filter out anomalies where click action occurs without view action\n",
    "valid_data = df[df['action'] != 'click']\n",
    "\n",
    "# Create a contingency table of observed frequencies\n",
    "contingency_table = pd.crosstab(valid_data['group'], valid_data['action'])\n",
    "\n",
    "# Perform the chi-square test\n",
    "chi2, p_value, _, _ = chi2_contingency(contingency_table)\n",
    "\n",
    "print(\"Chi-square statistic:\", chi2)\n",
    "print(\"p-value:\", p_value)\n",
    "\n",
    "# Calculate the expected number of clicks for the experiment group\n",
    "control_click_through_rate = contingency_table.loc['control', 'view'] / contingency_table.loc['control'].sum()\n",
    "experiment_expected_clicks = control_click_through_rate * contingency_table.loc['experiment'].sum()\n",
    "\n",
    "print(\"Expected number of clicks for the experiment group:\", experiment_expected_clicks)\n",
    "\n",
    "# Calculate the number of standard deviations\n",
    "actual_clicks = contingency_table.loc['experiment', 'view']\n",
    "z = (actual_clicks - experiment_expected_clicks) / np.sqrt(experiment_expected_clicks)\n",
    "\n",
    "print(\"Number of standard deviations:\", z)\n"
   ]
  },
  {
   "cell_type": "code",
   "execution_count": null,
   "metadata": {},
   "outputs": [],
   "source": []
  }
 ],
 "metadata": {
  "kernelspec": {
   "display_name": "Python 3 (ipykernel)",
   "language": "python",
   "name": "python3"
  },
  "language_info": {
   "codemirror_mode": {
    "name": "ipython",
    "version": 3
   },
   "file_extension": ".py",
   "mimetype": "text/x-python",
   "name": "python",
   "nbconvert_exporter": "python",
   "pygments_lexer": "ipython3",
   "version": "3.10.11"
  }
 },
 "nbformat": 4,
 "nbformat_minor": 2
}
